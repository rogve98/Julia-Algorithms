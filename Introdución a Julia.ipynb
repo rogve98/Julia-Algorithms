{
 "cells": [
  {
   "cell_type": "markdown",
   "id": "fec3fd9b",
   "metadata": {},
   "source": [
    "# Física computacional \n",
    "\n",
    "## Semestre 2024-1\n",
    "\n",
    "### Introducción\n",
    "\n",
    "Este notebook esta enfocado para darles un seguimiento a quienes quieran aprender a programar en Julia, desde mi punto de vista es muy bueno que aprendan Python pero no es menos importante que aprendan Julia. Python es un lenguaje de programación demasiado completo y vasto, su comunidad ha aportado gran cantidad de material para poder emplearse en ciencia de datos, inteligencia artificial, desarrollo web etc. En el campo laboral Python es uno de los lenguajes más utilizados junto con Java (al menos en México); entonces por que les recomiendo aprender Julia? La respuesta es por la eficiciencia de compilación.\n",
    "\n",
    "Las computadoras hay que entenderlas como calculadoras capaces de hacer cosas extraordinarias, como por ejemplo el notebook que estoy escribiendo. Pero para fines de nuestro curso las vemos como calculadoras que son capaces de resolver ecuaciones diferenciales ordinarias, parciales, integrar funciones, derivarlas, interpolarlas, analizar datos y un largo etc. Sin embargo, dependiendo de la complejidad de los algorítmos y de la carga de información que se les emplee, el resultado esperado puede tardar distintos tiempos dependiendo del tipo de lenguaje empleado.\n",
    "\n",
    "Siguiendo esta línea, la forma en la que la computadora entiende las indicaciones de un algrítmo es por medio de un lenguaje que ella entienda, se denomina lenguaje máquina que no es más que código binario. La vía de comunicación entre humanos con máquinas es por medio de los lenguajes de programación principalmente y ahorita quiero introducir únicamente dos tipos: **lenguajes compilados**, y **lenguajes interpretados**. \n",
    "\n",
    "Quizás algunos de ustedes en primer semestre hayan usado C para aprender un poco de programación, recordarán que al escribir sus programas en algún editor de código necesitaban irse a la terminal y compilar con la instrucción `gcc ` etc etc; los lenguajes compilados necesitan de un \"interprete\" (llamado compilador) que traduzca ese lenguaje humano a lenguaje máquina. Estos lenguajes en principio son complicados de aprender porque su sintaxis es muy exquisita, sin embargo poseen la ventaja de que la compilación de los algorítmos es muy rápida, lo que los vuelve una excelente opción si estas trabajando con proyectos robustos. Ejemplos de estos lenguajes pueden ser C, C++, FORTRAN, Rust, Golang (estos últimos dos son para desarrollo de software y backend).\n",
    "\n",
    "Por otro lado están los lenguajes interpretados, que son más amenos de escribir y aprender. Su ventaja es que sus filosofías se centran más en la lógica de programación que en su forma de escribir, por tanto escribir código en estos lenguajes es más rápida y fluida. La gran desventaja de estos lenguajes reside en que no tienen un compilador aparte sino que esta integrado, entonces la acción de compilación se da línea por línea de corrido y eso lo vuelve muy tardado si es que se tienen proyectos grandes. Algunos ejemplos pueden ser Python, Ruby, R, JavaScript.\n",
    "\n",
    "Julia por otro lado es un lenguaje híbrido porque dispone de un compilador pero es posible ejecutarlo línea por línea como los lenguajes interpretados, Julia ofrece el santo grial en el cómputo científico, ofrece facilidad de escritura de código y rápidez de compilación es por ello que es ciertamente popular entre la comunidad científica. Para terminar esta introducción quisiera resumir una experiencia personal con este lenguaje, en alguna materia nos dejaron progamar el modelo de Ising 2D que en pocas palabras requiere de una gran demanda de recursos, mis compañeros que intentaron realizarlo en python sufrieron por los largos tiempos de compilación, pero los que usamos Julia igual sufrimos un poco pero los tiempos de compilación eran considerablemente menores, 40 minutos contra 15 minutos.\n",
    "\n"
   ]
  },
  {
   "cell_type": "markdown",
   "id": "6395f283",
   "metadata": {},
   "source": [
    "### Instalación\n",
    "\n",
    "Dicho lo cual, procederé a poner la guía de instalación. \n",
    "\n",
    "1. Primero que nada hay que acceder a la página de [Julia](https://julialang.org/downloads/) y descargarlo, descargan el programa de acuerdo a la arquitectura de su computadora ya sea 64bits o 32bits (para consultarlo pueden meterse a configuración e información de sistema). Para los que están en Linux yo descargué la que dice x86 glibc (no se que pasa si descargan la otra). Para los que tengan Mac descargan la opción de acuerdo al tipo de procesador que tengan y los de Windows ya tienen su propio instalador, al parecer ya funciona por default.\n",
    "\n",
    "2. Guías de instalación:\n",
    "\n",
    "Ubuntu: https://www.youtube.com/watch?v=SG0rDKcD9qU&t=148s.\n",
    "\n",
    "Guía de instalación Mac (incluye Jupyter): https://www.youtube.com/watch?v=oyx8M1yoboY\n",
    "\n",
    "Guía de instalación Windows: https://www.youtube.com/watch?v=81DRruCIO34"
   ]
  },
  {
   "cell_type": "markdown",
   "id": "3ddb5bae",
   "metadata": {},
   "source": [
    "En todos los casos, para instalar Jupyter basta con hacer las siguientes instrucciones. Estando \"dentro\" de la terminal de Julia, ejecutamos las siguientes instrucciones\n",
    "\n",
    "`julia> import Pkg`\n",
    "\n",
    "`julia> Pkg.add(\"IJulia\")\n",
    "`\n",
    "\n",
    "Una vez terminada esa instalación se procede a \"usar\" ese paquete y listo\n",
    "\n",
    "\n",
    "`julia> using IJulia`\n",
    "\n",
    "`julia> notebook()`\n",
    "\n",
    "Para agregar cualquier paquete de Julia como veremos más adelante, hay que usar las primeras dos instrucciones en la terminal de julia y para usarlas en el notebook de Jupyter hay que ponerlas hasta el principio del notebook. Dato extra, para usar jupyter en una carpeta determinada hay que abrir una terminar dentro de esa carpeta y ejecutar julia y las instrucciones anteriores. ¡Listo!"
   ]
  },
  {
   "cell_type": "markdown",
   "id": "dc6e1197",
   "metadata": {},
   "source": [
    "### Ahora si la clase\n",
    "\n",
    "Para el curso será necesario instalar las siguientes paqueterías:\n",
    "\n",
    "* Plots\n",
    "* LineaAlgebra (hasta llegar a la parte de algeba lineal)\n",
    "* LaTeXString (opcional, sirve para agregar Latex a las gráficas)\n",
    "\n",
    "Un dato extra es que es posible instalar esas paqueterías desde estas celdas de código"
   ]
  },
  {
   "cell_type": "code",
   "execution_count": null,
   "id": "0e04f4c5",
   "metadata": {},
   "outputs": [],
   "source": [
    "#Hay que seguir esta sintaxis, pueden probar ustedes con los otros paquetes.\n",
    "import Pkg\n",
    "Pkg.add(\"Plots\")"
   ]
  },
  {
   "cell_type": "markdown",
   "id": "3c8bb75c",
   "metadata": {},
   "source": [
    "Comenzando por la parte de **aritmética** es muy similar a Python y muy intuitivo de acuerdo a nuestra manera de entender las matemáticas."
   ]
  },
  {
   "cell_type": "code",
   "execution_count": null,
   "id": "a2e51ba9",
   "metadata": {},
   "outputs": [],
   "source": [
    "#Suma\n",
    "println(3+2)\n",
    "#Potencia, aquí si podemos usar la cuña\n",
    "println(3^3)\n",
    "#Mensajes\n",
    "println(\"Hola Mundo\")"
   ]
  },
  {
   "cell_type": "markdown",
   "id": "5496ebea",
   "metadata": {},
   "source": [
    "Es demasiado común usar variables que se definen como paquetes que guardan datos en algún lugar de la memoria"
   ]
  },
  {
   "cell_type": "code",
   "execution_count": null,
   "id": "f74a39ee",
   "metadata": {},
   "outputs": [],
   "source": [
    "a = 3\n",
    "b = 2\n",
    "println(a+b)\n",
    "#Multiplicación\n",
    "println(a*b)"
   ]
  },
  {
   "cell_type": "markdown",
   "id": "52b4e7c7",
   "metadata": {},
   "source": [
    "Los números complejos son"
   ]
  },
  {
   "cell_type": "code",
   "execution_count": null,
   "id": "d8093ff2",
   "metadata": {},
   "outputs": [],
   "source": [
    "c = 1+2im"
   ]
  },
  {
   "cell_type": "code",
   "execution_count": null,
   "id": "6bc4b157",
   "metadata": {},
   "outputs": [],
   "source": [
    "typeof(c)"
   ]
  },
  {
   "cell_type": "markdown",
   "id": "0eab2b67",
   "metadata": {},
   "source": [
    "En Julia y python no van a tener que preocuparse por definir los tipos de datos, en otros lenguajes hay que definir las variables junto con su tipo que pueden ser Float (para números decimales), Int, String, Double, etc. Esa es la ventaja que les mencionaba de que la escritura de código en Julia y Python es sencilla en comparación con otros lenguajes que si debes especificar el tipo de dato que le atribuirás a las variables.\n",
    "\n",
    "Podemos escribir en Latex tanto en estas céldas denominadas Markdown (que se activan apretando Esc sobre una celda y luego la tecla M). Para hacerlo aquí solo hay que encerrar entre símbolos de pesos $\\pi$\n",
    "\n",
    "$$x_{n+1}=rx_n(1-x_n)$$"
   ]
  },
  {
   "cell_type": "code",
   "execution_count": null,
   "id": "6c8aa1c0",
   "metadata": {},
   "outputs": [],
   "source": [
    "#En las céldas de código también se puede, solo que hay que apretar la tecla tab sobre la celda para que se convierta\n",
    "π"
   ]
  },
  {
   "cell_type": "markdown",
   "id": "edfd4ee8",
   "metadata": {},
   "source": [
    "Las funciones seno, coseno, exponencial, log, etc ya están incluidas desde ya sin tener que importar nada, estan listas para usarse."
   ]
  },
  {
   "cell_type": "code",
   "execution_count": null,
   "id": "a92bc260",
   "metadata": {},
   "outputs": [],
   "source": [
    "#La manera de visualizar varios datos al mismo tiempo es con println(), de otra forma no es posible\n",
    "println(\"cos(0) = \",cos(0))\n",
    "println(\"e = \",exp(1))"
   ]
  },
  {
   "cell_type": "markdown",
   "id": "0fa6d5d4",
   "metadata": {},
   "source": [
    "### Variables y tipos de dato\n",
    "\n",
    "Ya habíamos hablado un poco de los tipos de dato pero ahorita me centraré rápidamente a mostrar la conversión de un tipo de dato a otro."
   ]
  },
  {
   "cell_type": "code",
   "execution_count": null,
   "id": "4488c723",
   "metadata": {},
   "outputs": [],
   "source": [
    "#si tenemos una variable entero\n",
    "a = 3\n",
    "#puede volverse flotante mediante la siguiente conversión\n",
    "b = Float64(a)\n",
    "println(a)\n",
    "println(b)"
   ]
  },
  {
   "cell_type": "code",
   "execution_count": null,
   "id": "9b36b83c",
   "metadata": {},
   "outputs": [],
   "source": [
    "#Para saber el tipo de dato ya veíamos la función typeof\n",
    "typeof(b)"
   ]
  },
  {
   "cell_type": "markdown",
   "id": "b125afc8",
   "metadata": {},
   "source": [
    "### Estructuras de dato: Arrays y Matrices\n",
    "\n",
    "Otra de las ventajas de Julia es que no es necesario importar ninguna librería para trabajar con matrices, claro que si queremos calcular eigenvalores o cosas más precisas tendremos que usar LinearAlgebra. Pero en general los arrays los podemos definir con la siguiente nomenclatura"
   ]
  },
  {
   "cell_type": "code",
   "execution_count": null,
   "id": "c969d977",
   "metadata": {},
   "outputs": [],
   "source": [
    "v = [1,2,3]"
   ]
  },
  {
   "cell_type": "markdown",
   "id": "056d0f40",
   "metadata": {},
   "source": [
    "La salida nos dice que es un vector de números enteros, los arrays pueden definirse de forma n-dimensional, puedo generar matrices bajo la siguiente sintaxis"
   ]
  },
  {
   "cell_type": "code",
   "execution_count": null,
   "id": "955b419f",
   "metadata": {},
   "outputs": [],
   "source": [
    "A = [1 2 3;4 5 6;7 8 9]"
   ]
  },
  {
   "cell_type": "markdown",
   "id": "0a9a1ec9",
   "metadata": {},
   "source": [
    "Y aún se pueden generar tensores"
   ]
  },
  {
   "cell_type": "code",
   "execution_count": null,
   "id": "396aca5b",
   "metadata": {},
   "outputs": [],
   "source": [
    "#Un tensor de 3×3×3\n",
    "T = [1 2 3 \n",
    "    4 5 6 \n",
    "    7 8 9 ;;;\n",
    "    1 2 3 \n",
    "    4 5 6 \n",
    "    7 8 9 ;;; \n",
    "    1 2 3 \n",
    "    4 5 6 \n",
    "    7 8 9]"
   ]
  },
  {
   "cell_type": "markdown",
   "id": "f0be9984",
   "metadata": {},
   "source": [
    "Pero estoy seguro de que tensores no vamos a ocupar, al menos yo nunca los he ocupado pero pues merece la pena introducirlos. Podemos multiplicar matrices, transponerla, multiplicar entrada entrada (algo así como un producto punto).\n"
   ]
  },
  {
   "cell_type": "code",
   "execution_count": null,
   "id": "193f85cb",
   "metadata": {},
   "outputs": [],
   "source": [
    "#multiplicación de matrices ordinaria. Con display() podemos mostrar la matriz desplegada en filas y columnas\n",
    "println(display(A*A))\n",
    "println(display(transpose(A)))\n",
    "#producto punto\n",
    "println(display(A.*A))"
   ]
  },
  {
   "cell_type": "markdown",
   "id": "79df9dfe",
   "metadata": {},
   "source": [
    "Del lado de los vectores se puede hacer lo mismo"
   ]
  },
  {
   "cell_type": "code",
   "execution_count": null,
   "id": "6bb3c00a",
   "metadata": {},
   "outputs": [],
   "source": [
    "println(v.*v) #Sería como producto punto\n",
    "display(transpose(v))"
   ]
  },
  {
   "cell_type": "markdown",
   "id": "93c137af",
   "metadata": {},
   "source": [
    "Si intentamos multiplicar vectores no será posible porque la multiplicación de arreglos es considerada como si fuera multiplicación de matrices, por tanto, dos vectores de la misma dimensión no es compatible con ese tipo de multiplicación."
   ]
  },
  {
   "cell_type": "markdown",
   "id": "0b47ed5b",
   "metadata": {},
   "source": [
    "#### Acceder a las entradas de arreglos\n",
    "\n",
    "Será muy útil acceder a las entradas de los arreglos para cuando hagamos funciones que requieran bucles o cositas así en donde requieras acceder a los elementos de un arreglo. Para ello fijémonos en lo siguiente\n"
   ]
  },
  {
   "cell_type": "code",
   "execution_count": null,
   "id": "de472c92",
   "metadata": {},
   "outputs": [],
   "source": [
    "#usaremos nuestro vector v que ya anda por ahí, su primera entrada es la siguiente\n",
    "v[1]"
   ]
  },
  {
   "cell_type": "markdown",
   "id": "cbce9851",
   "metadata": {},
   "source": [
    "A diferencia de Python, julia comienza a hacer su conteo de índices desde el 1 y no desde el cero"
   ]
  },
  {
   "cell_type": "code",
   "execution_count": null,
   "id": "45fd9bcb",
   "metadata": {},
   "outputs": [],
   "source": [
    "#si hacemos esto nos desplegará un error, pues no existe un índice cero\n",
    "v[0]"
   ]
  },
  {
   "cell_type": "markdown",
   "id": "ac972ce2",
   "metadata": {},
   "source": [
    "Esos elementos pueden ser mutables, modifiquemos nuestro vector v"
   ]
  },
  {
   "cell_type": "code",
   "execution_count": null,
   "id": "ba95145e",
   "metadata": {},
   "outputs": [],
   "source": [
    "v[3]=10\n",
    "v"
   ]
  },
  {
   "cell_type": "markdown",
   "id": "7f2858cd",
   "metadata": {},
   "source": [
    "Hay que tener cuidado con esto porque una vez mutado no se puede regresar al estado anterior. Para el caso de las matrices la idea es algo similar"
   ]
  },
  {
   "cell_type": "code",
   "execution_count": null,
   "id": "b1bbeca8",
   "metadata": {},
   "outputs": [],
   "source": [
    "#Elemento de la fila dos, columna tres\n",
    "display(A)\n",
    "A[2,3]"
   ]
  },
  {
   "cell_type": "markdown",
   "id": "3aaef4f6",
   "metadata": {},
   "source": [
    "Mediante índices es posible accedes a un conjunto de valores en un array, ya sea vector o matriz. "
   ]
  },
  {
   "cell_type": "code",
   "execution_count": null,
   "id": "f4d64b62",
   "metadata": {},
   "outputs": [],
   "source": [
    "#vector de números aleatorios\n",
    "w = rand(10)"
   ]
  },
  {
   "cell_type": "code",
   "execution_count": null,
   "id": "59ad19f9",
   "metadata": {},
   "outputs": [],
   "source": [
    "#Este slice solo regresa un vector con las entradas del 1 al 5.\n",
    "w[1:5]"
   ]
  },
  {
   "cell_type": "code",
   "execution_count": null,
   "id": "0931b470",
   "metadata": {},
   "outputs": [],
   "source": [
    "#Ahora con una matriz\n",
    "B = rand(5,5)"
   ]
  },
  {
   "cell_type": "code",
   "execution_count": null,
   "id": "a987a14d",
   "metadata": {},
   "outputs": [],
   "source": [
    "#Regresa todas las filas de la primera columna, o sea toda la primera columna.\n",
    "B[:,1]"
   ]
  },
  {
   "cell_type": "code",
   "execution_count": null,
   "id": "2a50a89c",
   "metadata": {},
   "outputs": [],
   "source": [
    "#Esto regresaría todas las columnsa de la primera fila, o sea la primera fila.\n",
    "B[1,:]"
   ]
  },
  {
   "cell_type": "markdown",
   "id": "2562b09e",
   "metadata": {},
   "source": [
    "En Julia también se pueden hacer arreglos de diferentes tipos de datos, pero solo es una curiosidad."
   ]
  },
  {
   "cell_type": "code",
   "execution_count": null,
   "id": "f0724099",
   "metadata": {},
   "outputs": [],
   "source": [
    "#Este es un arreglo que contiene un String, un vector, una matriz y un entero.\n",
    "r = [\"hola\",v,A,19]"
   ]
  },
  {
   "cell_type": "markdown",
   "id": "81ce8c99",
   "metadata": {},
   "source": [
    "### Tuplas\n",
    "\n",
    "Estas estructuras de datos son similares a los arrays pero con la diferencia de que no son mutables, sus elementos no se pueden modificar mediante las técnicas antes vistas."
   ]
  },
  {
   "cell_type": "code",
   "execution_count": null,
   "id": "f5e8211a",
   "metadata": {},
   "outputs": [],
   "source": [
    "#Se definen así\n",
    "x = (1,2,3)"
   ]
  },
  {
   "cell_type": "code",
   "execution_count": null,
   "id": "8b1c9567",
   "metadata": {},
   "outputs": [],
   "source": [
    "#Esto arrojará error\n",
    "x[1] = 3"
   ]
  },
  {
   "cell_type": "markdown",
   "id": "32defb63",
   "metadata": {},
   "source": [
    "Yo recomiendo usar las tuplas para casos en donde sepan que no van a modificar sus arreglos, tiene grandes ventajas como la de que ocupa poca memoria y por tanto los cálculos que se hagan son más ágiles para la computadora. Esta característica puede ser fundamental si tienes una gran pila de datos que procesar y quieres optimizar tiempo.\n",
    "\n",
    "Para saber la longitud de un arreglo o tupla es necesario usar la función `length()`"
   ]
  },
  {
   "cell_type": "code",
   "execution_count": null,
   "id": "0aff2acf",
   "metadata": {},
   "outputs": [],
   "source": [
    "println(\"El número elemento del vector v es \",length(v))\n",
    "println(\"El número de elementos de la matriz A es \",length(A))"
   ]
  },
  {
   "cell_type": "markdown",
   "id": "4b761929",
   "metadata": {},
   "source": [
    "Para eliminar el último elemento de algún arreglo usamos `pop!(v)` y para agregar elementos a algún arreglo hasta el final usamos `push!(v,valor)`"
   ]
  },
  {
   "cell_type": "code",
   "execution_count": null,
   "id": "78d27ce0",
   "metadata": {},
   "outputs": [],
   "source": [
    "pop!(v)\n",
    "v"
   ]
  },
  {
   "cell_type": "code",
   "execution_count": null,
   "id": "2c52b868",
   "metadata": {},
   "outputs": [],
   "source": [
    "push!(v,10)"
   ]
  },
  {
   "cell_type": "markdown",
   "id": "a0b9d99d",
   "metadata": {},
   "source": [
    "### Progresiones aritméticas y arrays por compresión\n",
    "\n",
    "Al igual que en Python, es posible definir un vector de números enteros y hasta decimales que vaya progresivamente o incluso regresivamente, incluso puede ir salteado. Este tipo de vectores se utiliza mucho como contadores para los ciclos for asi que ténganlos mucho en cuenta. Existen dos maneras básicas de generar esos vectores"
   ]
  },
  {
   "cell_type": "code",
   "execution_count": null,
   "id": "26a84d47",
   "metadata": {},
   "outputs": [],
   "source": [
    "#Con esto generamos números del 1 al 10\n",
    "collect(1:10)"
   ]
  },
  {
   "cell_type": "code",
   "execution_count": null,
   "id": "3efd1f07",
   "metadata": {},
   "outputs": [],
   "source": [
    "#con esto igual pero con un paso de 0.1\n",
    "collect(1:0.1:10)"
   ]
  },
  {
   "cell_type": "code",
   "execution_count": null,
   "id": "e3d8df86",
   "metadata": {},
   "outputs": [],
   "source": [
    "#podemos hacerlo de reversa\n",
    "collect(10:-1:1)"
   ]
  },
  {
   "cell_type": "code",
   "execution_count": null,
   "id": "87588abd",
   "metadata": {},
   "outputs": [],
   "source": [
    "#Salteado incluso\n",
    "collect(1:2:10)"
   ]
  },
  {
   "cell_type": "markdown",
   "id": "bc2dff98",
   "metadata": {},
   "source": [
    "Pero hay un tipo de técnica que va a ser muy útil para la hora de definir conjuntos de valores, la lista por compresión es una manera muy útil de definir arreglos sobre todo si queremos graficarlos."
   ]
  },
  {
   "cell_type": "code",
   "execution_count": null,
   "id": "44cdffbd",
   "metadata": {},
   "outputs": [],
   "source": [
    "z = [sin(x) for x in collect(0:0.1:2π)]"
   ]
  },
  {
   "cell_type": "code",
   "execution_count": null,
   "id": "5e5e379c",
   "metadata": {},
   "outputs": [],
   "source": [
    "#podemos graficar esto, pero para ello hay que llamar al paquete Plots, recomiendo que los agreguen al principio del notebook.\n",
    "using Plots\n",
    "plotlyjs()"
   ]
  },
  {
   "cell_type": "code",
   "execution_count": null,
   "id": "4c71483c",
   "metadata": {},
   "outputs": [],
   "source": [
    "#Más adelante les armo un tutorial de graficas bonitas.\n",
    "plot(collect(0:0.1:2π),z,w=2)"
   ]
  },
  {
   "cell_type": "markdown",
   "id": "1f0b690e",
   "metadata": {},
   "source": [
    "Existe una segunda forma de definir vectores (creo que no funciona para matrices) y puede ser útil para estos casos."
   ]
  },
  {
   "cell_type": "code",
   "execution_count": null,
   "id": "a3ad8081",
   "metadata": {},
   "outputs": [],
   "source": [
    "μ = range(0, stop = 2π, step = 0.1)\n",
    "ν = range(0, stop = 2π, length = 100)"
   ]
  },
  {
   "cell_type": "markdown",
   "id": "a3f2ebfe",
   "metadata": {},
   "source": [
    "La primer forma actúa con un paso de 0.1 y la segunda forma divide el intervalo en 100 secciones equidistantes."
   ]
  },
  {
   "cell_type": "markdown",
   "id": "dce31eb3",
   "metadata": {},
   "source": [
    "### Funciones\n",
    "\n",
    "El pan de cada día en esta materia y en la mayoría de las clases y optativas de computación son las funciones, solucionan la vida, alivianan el alma y es justo la chamba que les damos a las computadoras para que nos resuelvan problemas complejos o complicados de resolver a mano. Funcionan igual que lo que conocemos en cálculo\n",
    "\n",
    "$$f:A\\to B$$\n",
    "\n",
    "Los elementos de $A$ son todos aquellos datos que necesita la función para poder desarrollar el algorítmo, éstos datos pueden ser diversos, puedes meter vectores, matrices, números, strings lo que sea y serán ocupados por el algorítmo (que funge como la \"regla de correspondencia\") para producir un resultado que se encuentra en el conjunto $B$."
   ]
  },
  {
   "cell_type": "code",
   "execution_count": null,
   "id": "3eb2a757",
   "metadata": {},
   "outputs": [],
   "source": [
    "#podemos llamar a las funciones de la manera que quieran, pero como buenas prácticas nombrenlas con algo relacionado a lo que trabajan\n",
    "\n",
    "function ejemplo1(v,A)\n",
    "    resultado = A*v\n",
    "    return resultado\n",
    "end"
   ]
  },
  {
   "cell_type": "code",
   "execution_count": null,
   "id": "2ad12ec9",
   "metadata": {},
   "outputs": [],
   "source": [
    "#Agarremos al vector y matriz antes definidos\n",
    "ejemplo1(v,A)"
   ]
  },
  {
   "cell_type": "markdown",
   "id": "86e2038d",
   "metadata": {},
   "source": [
    "La función `ejemplo1(v,A)` ha realizado la múltiplicación de Matriz por vector\n",
    "\n",
    "$$T=Av$$\n",
    "\n",
    "un ejemplo clásico de transformaciones lineales. Esta función es la sintaxis y la forma de escribir funciones en julia, y las seguiremos recordando y prácticando."
   ]
  },
  {
   "cell_type": "markdown",
   "id": "c70a8da2",
   "metadata": {},
   "source": [
    "### Volviendo con matrices\n",
    "\n",
    "Ya vimos un poco de matrices pero ahora quisiera mostrar algunas técnicas para definir matrices en corto."
   ]
  },
  {
   "cell_type": "code",
   "execution_count": null,
   "id": "f826f5f7",
   "metadata": {},
   "outputs": [],
   "source": [
    "using LinearAlgebra"
   ]
  },
  {
   "cell_type": "code",
   "execution_count": null,
   "id": "68f21112",
   "metadata": {},
   "outputs": [],
   "source": [
    "O = zeros(5,5)"
   ]
  },
  {
   "cell_type": "code",
   "execution_count": null,
   "id": "2e5f5e8a",
   "metadata": {},
   "outputs": [],
   "source": [
    "U = ones(5,5)"
   ]
  },
  {
   "cell_type": "code",
   "execution_count": null,
   "id": "7c94c375",
   "metadata": {},
   "outputs": [],
   "source": [
    "#Esto no funciona si no han agregado LinearAlgebra\n",
    "N = Matrix(1I, 5, 5)"
   ]
  },
  {
   "cell_type": "code",
   "execution_count": null,
   "id": "1915889e",
   "metadata": {},
   "outputs": [],
   "source": [
    "#Determinante\n",
    "det(N)"
   ]
  },
  {
   "cell_type": "markdown",
   "id": "29ebb69b",
   "metadata": {},
   "source": [
    "Y bueno ya para terminar de números aleatorios hemos definido las funciones `rand()`, sin embargo estos son números aleatorios mayormente distribuidos de 0 a 1, podemos ocupar `randn()` para considerar la distribución normal como generador de esos números."
   ]
  },
  {
   "cell_type": "code",
   "execution_count": null,
   "id": "0e5328bf",
   "metadata": {},
   "outputs": [],
   "source": [
    "randn(10)"
   ]
  },
  {
   "cell_type": "code",
   "execution_count": null,
   "id": "ab5879ee",
   "metadata": {},
   "outputs": [],
   "source": [
    "randn(10,10)"
   ]
  },
  {
   "cell_type": "markdown",
   "id": "9c4763d9",
   "metadata": {},
   "source": [
    "Como vemos hay números negativos y positivos y todos esos números obedecen la distribución normal. Quizás el material esta corto, es más o menos lo que vi que Serch vio en clase asi que si tienen cualquier duda no duden en escribirme, si es por Telegram mejor. Quiero dejarles por aqui la [documentación](https://docs.julialang.org/en/v1/) de Julia, es importante que aprendan a usarla asi como StackOverflow son buenas prácticas que como buenos programadores hay que ir desarrollando. La manera en que yo uso la documentación es yendome al buscador para ver información sobre alguna función como `randn()` o cualquier otra que se les ocurra y les despliega opciones que muestran ejemplos e información al respecto.\n",
    "\n",
    "También me gustaría compartirles este [canal](https://www.youtube.com/@doggodotjl/videos) YouTube, esta en inglés pero es de una persona que verdaderamente hace un gran esfuerzo por enseñar el lenguaje. La verdad es que esta muy completo e incluso vienen cosas mucho más avanzadas de lo que yo pueda tratar de enseñarles, de hecho igual yo ando revisando ese canal cuando quiero aprender alguna cosa nueva de Julia."
   ]
  },
  {
   "cell_type": "code",
   "execution_count": null,
   "id": "255b82b3",
   "metadata": {},
   "outputs": [],
   "source": []
  }
 ],
 "metadata": {
  "kernelspec": {
   "display_name": "Julia 1.8.5",
   "language": "julia",
   "name": "julia-1.8"
  },
  "language_info": {
   "file_extension": ".jl",
   "mimetype": "application/julia",
   "name": "julia",
   "version": "1.8.5"
  }
 },
 "nbformat": 4,
 "nbformat_minor": 5
}
